{
 "cells": [
  {
   "cell_type": "code",
   "execution_count": 58,
   "metadata": {},
   "outputs": [],
   "source": [
    "import zipfile\n",
    "import os\n",
    "path_to_zip_file = \"E:/1 Downloads 2021 - 2022/New I Don't Wanna Be Right Vox Stems/New folder\"\n",
    "listdir = os.listdir(path_to_zip_file)\n",
    "zip_files = []\n",
    "for ls in listdir:\n",
    "    # print(ls)\n",
    "    if ls.endswith(\".zip\"):\n",
    "        zip_files.append(ls)\n",
    "\n",
    "files_to_unzip = []\n",
    "for files in zip_files:\n",
    "    files_to_unzip.append(f\"{path_to_zip_file}/{files}\")\n",
    "folder_names = []\n",
    "\n",
    "for file in zip_files:\n",
    "    folder_names.append(file[:-4])\n",
    "\n",
    "for files in folder_names:\n",
    "    path_to_extract_to = f\"{path_to_zip_file}/{files}\"\n",
    "    os.makedirs(path_to_extract_to, exist_ok=True)"
   ]
  },
  {
   "cell_type": "code",
   "execution_count": 59,
   "metadata": {},
   "outputs": [
    {
     "name": "stdout",
     "output_type": "stream",
     "text": [
      "1. ZipFile - unpacked\n",
      "2. ZipFile - unpacked\n",
      "3. ZipFile - unpacked\n",
      "Unzipping ready\n"
     ]
    }
   ],
   "source": []
  },
  {
   "cell_type": "code",
   "execution_count": null,
   "metadata": {},
   "outputs": [],
   "source": []
  }
 ],
 "metadata": {
  "interpreter": {
   "hash": "e9d9f2802acb274f557100216377a60b48ec4bb773c58f535c7718c3111d77af"
  },
  "kernelspec": {
   "display_name": "Python 3.9.6 64-bit",
   "language": "python",
   "name": "python3"
  },
  "language_info": {
   "codemirror_mode": {
    "name": "ipython",
    "version": 3
   },
   "file_extension": ".py",
   "mimetype": "text/x-python",
   "name": "python",
   "nbconvert_exporter": "python",
   "pygments_lexer": "ipython3",
   "version": "3.9.6"
  },
  "orig_nbformat": 4
 },
 "nbformat": 4,
 "nbformat_minor": 2
}
