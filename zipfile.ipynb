{
 "cells": [
  {
   "cell_type": "code",
   "execution_count": 36,
   "metadata": {},
   "outputs": [],
   "source": [
    "## Uncomment these\n",
    "# !pip install patool pyunpack\n",
    "# !pip install prettytable"
   ]
  },
  {
   "cell_type": "code",
   "execution_count": 37,
   "metadata": {},
   "outputs": [],
   "source": [
    "import os\n",
    "import time\n",
    "from pyunpack import Archive\n",
    "from prettytable import PrettyTable\n",
    "from prettytable import MARKDOWN"
   ]
  },
  {
   "cell_type": "code",
   "execution_count": 38,
   "metadata": {},
   "outputs": [],
   "source": [
    "path_to_zip_file = input(\"enter directory:\")\n",
    "listdir = os.listdir(path_to_zip_file)\n",
    "zip_files = []\n",
    "files_to_unzip = []\n",
    "folder_names = []"
   ]
  },
  {
   "cell_type": "code",
   "execution_count": 39,
   "metadata": {},
   "outputs": [],
   "source": [
    "for ls in listdir:\n",
    "    if ls.endswith(\".zip\") or ls.endswith(\".rar\"):\n",
    "        zip_files.append(ls)\n",
    "for files in zip_files:\n",
    "    files_to_unzip.append(f\"{path_to_zip_file}/{files}\")\n",
    "    folder_names.append(files[:-4])\n",
    "for files in folder_names:\n",
    "    path_to_extract_to = f\"{path_to_zip_file}/{files}\"\n",
    "    os.makedirs(path_to_extract_to, exist_ok=True)"
   ]
  },
  {
   "cell_type": "code",
   "execution_count": 40,
   "metadata": {},
   "outputs": [
    {
     "name": "stdout",
     "output_type": "stream",
     "text": [
      "Job 1 in progress - File size: 322.134 Mb.\n",
      "Job 1 done in 6.699s \n",
      " ----------\n",
      "Job 2 in progress - File size: 5.876 Mb.\n",
      "Job 2 done in 1.058s \n",
      " ----------\n",
      "Job 3 in progress - File size: 201.095 Mb.\n",
      "Job 3 done in 8.822s \n",
      " ----------\n",
      "Job 4 in progress - File size: 2.175 Mb.\n",
      "Job 4 done in 0.053s \n",
      " ----------\n",
      "Job 5 in progress - File size: 0.004 Mb.\n",
      "Job 5 done in 0.112s \n",
      " ----------\n",
      "Job 6 in progress - File size: 0.293 Mb.\n",
      "Job 6 done in 0.274s \n",
      " ----------\n",
      "Job 7 in progress - File size: 0.093 Mb.\n",
      "Job 7 done in 0.095s \n",
      " ----------\n",
      "Job 8 in progress - File size: 0.035 Mb.\n",
      "Job 8 done in 0.087s \n",
      " ----------\n",
      "Job 9 in progress - File size: 0.093 Mb.\n",
      "Job 9 done in 0.054s \n",
      " ----------\n",
      "Job 10 in progress - File size: 0.002 Mb.\n",
      "Job 10 done in 0.068s \n",
      " ----------\n",
      "Job 11 in progress - File size: 0.002 Mb.\n",
      "Job 11 done in 0.021s \n",
      " ----------\n",
      "Job 12 in progress - File size: 0.766 Mb.\n",
      "Job 12 done in 0.051s \n",
      " ----------\n",
      "Job 13 in progress - File size: 0.001 Mb.\n",
      "Job 13 done in 0.004s \n",
      " ----------\n",
      "Job 14 in progress - File size: 109.717 Mb.\n",
      "Job 14 done in 9.448s \n",
      " ----------\n",
      "Job 15 in progress - File size: 266.608 Mb.\n",
      "Job 15 done in 17.343s \n",
      " ----------\n"
     ]
    }
   ],
   "source": [
    "i = 1\n",
    "myTable = PrettyTable([\"#\", \"Name\", \"Status\", \"Time\", \"File size\"])\n",
    "for file in files_to_unzip:\n",
    "    start = time.time()\n",
    "    path_to_extract_to = f\"{file[:-4]}\"\n",
    "    # size = os.path.getsize(file)\n",
    "    final_size = \"{:.3f}\".format(os.path.getsize(file) / 1024 / 1000)\n",
    "    print(f\"Job {i} in progress - File size: {final_size} Mb.\")\n",
    "\n",
    "    Archive(file).extractall(path_to_extract_to)\n",
    "    stop = time.time()\n",
    "    duration = \"{:.3f}\".format(stop-start)\n",
    "    file_name = str(file.rsplit(\"/\", 1)[1])\n",
    "    file_name = f\"{file_name[:]}\"\n",
    "    myTable.add_row([i, file_name, \"Unpacked\", f\"{duration} s\", f\"{final_size} Mb\"])\n",
    "    print(f\"Job {i} done in {duration}s \\n {'-'*10}\")\n",
    "    i += 1"
   ]
  },
  {
   "cell_type": "code",
   "execution_count": 41,
   "metadata": {},
   "outputs": [
    {
     "name": "stdout",
     "output_type": "stream",
     "text": [
      "Everything done, enjoy\n",
      "\n",
      " \n",
      "\n",
      "Results: \n",
      " | #  |                Name               | Status   | Time     | File size  |\n",
      "|:---|:---------------------------------:|:---------|:---------|:-----------|\n",
      "| 1  |          Archive-318c.zip         | Unpacked | 6.699 s  | 322.134 Mb |\n",
      "| 2  |     chromedriver_win32 (1).zip    | Unpacked | 1.058 s  | 5.876 Mb   |\n",
      "| 3  |            FreePack.zip           | Unpacked | 8.822 s  | 201.095 Mb |\n",
      "| 4  | LiveEnhancementSuiteSetup-x64.zip | Unpacked | 0.053 s  | 2.175 Mb   |\n",
      "| 5  |      make_new_folder-main.zip     | Unpacked | 0.112 s  | 0.004 Mb   |\n",
      "| 6  |             Mohave.zip            | Unpacked | 0.274 s  | 0.293 Mb   |\n",
      "| 7  |          pdf2docx (1).zip         | Unpacked | 0.095 s  | 0.093 Mb   |\n",
      "| 8  |          pdf2docx (2).zip         | Unpacked | 0.087 s  | 0.035 Mb   |\n",
      "| 9  |            pdf2docx.zip           | Unpacked | 0.054 s  | 0.093 Mb   |\n",
      "| 10 | Robot QWeb case aamulehti (1).zip | Unpacked | 0.068 s  | 0.002 Mb   |\n",
      "| 11 |   Robot QWeb case aamulehti.zip   | Unpacked | 0.021 s  | 0.002 Mb   |\n",
      "| 12 |          Roboto_Slab.zip          | Unpacked | 0.051 s  | 0.766 Mb   |\n",
      "| 13 |        some_text_stuff.zip        | Unpacked | 0.004 s  | 0.001 Mb   |\n",
      "| 14 |       Stems Juha & Sami.rar       | Unpacked | 9.448 s  | 109.717 Mb |\n",
      "| 15 |      Test Sami project_2.zip      | Unpacked | 17.343 s | 266.608 Mb |\n"
     ]
    }
   ],
   "source": [
    "myTable.align = \"l\"\n",
    "myTable.align[\"Name\"] = \"c\"\n",
    "myTable.set_style(MARKDOWN)\n",
    "print(\"Everything done, enjoy\")\n",
    "print(\"\\n \\n\")\n",
    "print(\"Results: \\n\", myTable)"
   ]
  }
 ],
 "metadata": {
  "interpreter": {
   "hash": "e9d9f2802acb274f557100216377a60b48ec4bb773c58f535c7718c3111d77af"
  },
  "kernelspec": {
   "display_name": "Python 3.9.6 64-bit",
   "language": "python",
   "name": "python3"
  },
  "language_info": {
   "codemirror_mode": {
    "name": "ipython",
    "version": 3
   },
   "file_extension": ".py",
   "mimetype": "text/x-python",
   "name": "python",
   "nbconvert_exporter": "python",
   "pygments_lexer": "ipython3",
   "version": "3.9.6"
  },
  "orig_nbformat": 4
 },
 "nbformat": 4,
 "nbformat_minor": 2
}
